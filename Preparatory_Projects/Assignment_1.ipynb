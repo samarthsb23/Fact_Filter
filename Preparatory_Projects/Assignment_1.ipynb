{
 "cells": [
  {
   "cell_type": "markdown",
   "id": "978ae7ed-1602-4dfa-a650-fe57d8528cb6",
   "metadata": {},
   "source": [
    "Assignment 1 (Fact Filter)"
   ]
  },
  {
   "cell_type": "markdown",
   "id": "ed9679b4-cd20-4623-b88c-d68c277367a8",
   "metadata": {},
   "source": [
    "Name- Samarth Sharma Bhardwaj"
   ]
  },
  {
   "cell_type": "markdown",
   "id": "2e76dcc0-d291-4407-ad9d-68b0d6d2721b",
   "metadata": {},
   "source": [
    "Roll no- 230903"
   ]
  },
  {
   "cell_type": "code",
   "execution_count": 2,
   "id": "480a93c6-5eeb-494b-b530-908936f0a29e",
   "metadata": {},
   "outputs": [],
   "source": [
    "import pandas as pd #Imports panda library"
   ]
  },
  {
   "cell_type": "code",
   "execution_count": 3,
   "id": "b103b480-d23a-491b-87fa-a5575773c31f",
   "metadata": {},
   "outputs": [],
   "source": [
    "#Load datasets\n",
    "train_df = pd.read_csv('train.csv')\n",
    "test_df = pd.read_csv('test.csv')"
   ]
  },
  {
   "cell_type": "code",
   "execution_count": 4,
   "id": "96730455-3976-46e1-90a3-55e1b453695a",
   "metadata": {},
   "outputs": [],
   "source": [
    "#Merging the datasets\n",
    "merged_df = pd.concat([train_df, test_df], ignore_index = True)"
   ]
  },
  {
   "cell_type": "code",
   "execution_count": 6,
   "id": "3b8d9b58-464c-4ee5-a510-a244b0f5d503",
   "metadata": {},
   "outputs": [
    {
     "name": "stdout",
     "output_type": "stream",
     "text": [
      "   Class Index                                              Title  \\\n",
      "0            3  Wall St. Bears Claw Back Into the Black (Reuters)   \n",
      "1            3  Carlyle Looks Toward Commercial Aerospace (Reu...   \n",
      "2            3    Oil and Economy Cloud Stocks' Outlook (Reuters)   \n",
      "3            3  Iraq Halts Oil Exports from Main Southern Pipe...   \n",
      "4            3  Oil prices soar to all-time record, posing new...   \n",
      "5            3        Stocks End Up, But Near Year Lows (Reuters)   \n",
      "6            3               Money Funds Fell in Latest Week (AP)   \n",
      "7            3  Fed minutes show dissent over inflation (USATO...   \n",
      "8            3                            Safety Net (Forbes.com)   \n",
      "9            3            Wall St. Bears Claw Back Into the Black   \n",
      "\n",
      "                                         Description  \n",
      "0  Reuters - Short-sellers, Wall Street's dwindli...  \n",
      "1  Reuters - Private investment firm Carlyle Grou...  \n",
      "2  Reuters - Soaring crude prices plus worries\\ab...  \n",
      "3  Reuters - Authorities have halted oil export\\f...  \n",
      "4  AFP - Tearaway world oil prices, toppling reco...  \n",
      "5  Reuters - Stocks ended slightly higher on Frid...  \n",
      "6  AP - Assets of the nation's retail money marke...  \n",
      "7  USATODAY.com - Retail sales bounced back a bit...  \n",
      "8  Forbes.com - After earning a PH.D. in Sociolog...  \n",
      "9   NEW YORK (Reuters) - Short-sellers, Wall Stre...  \n"
     ]
    }
   ],
   "source": [
    "#Displaying the first 10 rows of the combined data frame\n",
    "print(merged_df.head(10))"
   ]
  },
  {
   "cell_type": "code",
   "execution_count": 8,
   "id": "81a0b431-e81f-49e5-9c21-e394aeaa0418",
   "metadata": {},
   "outputs": [
    {
     "name": "stdout",
     "output_type": "stream",
     "text": [
      "        Class Index                                              Title  \\\n",
      "127590            2                               Saban hiring on hold   \n",
      "127591            1  Bosnian-Serb prime minister resigns in protest...   \n",
      "127592            1                   Historic Turkey-EU deal welcomed   \n",
      "127593            2    Mortaza strikes to lead superb Bangladesh rally   \n",
      "127594            1               Powell pushes diplomacy for N. Korea   \n",
      "127595            1                                   Around the world   \n",
      "127596            2                        Void is filled with Clement   \n",
      "127597            2                             Martinez leaves bitter   \n",
      "127598            3  5 of arthritis patients in Singapore take Bext...   \n",
      "127599            3                             EBay gets into rentals   \n",
      "\n",
      "                                              Description  \n",
      "127590  DAVIE - The Dolphins want Nick Saban, and the ...  \n",
      "127591  Canadian Press - BANJA LUKA, Bosnia-Herzegovin...  \n",
      "127592  The European Union's decision to hold entry ta...  \n",
      "127593  Paceman Mashrafe Mortaza claimed two prize sca...  \n",
      "127594  WASHINGTON -- Outgoing Secretary of State Coli...  \n",
      "127595  Ukrainian presidential candidate Viktor Yushch...  \n",
      "127596  With the supply of attractive pitching options...  \n",
      "127597  Like Roger Clemens did almost exactly eight ye...  \n",
      "127598  SINGAPORE : Doctors in the United States have ...  \n",
      "127599  EBay plans to buy the apartment and home renta...  \n"
     ]
    }
   ],
   "source": [
    "#Displaying the first 10 rows of the combined data frame\n",
    "print(merged_df.tail(10))"
   ]
  },
  {
   "cell_type": "code",
   "execution_count": 10,
   "id": "9a103e17-445d-4008-a019-c5387cbd2ad8",
   "metadata": {},
   "outputs": [],
   "source": [
    "#Checking for missing values\n",
    "missing = merged_df.isnull().sum()"
   ]
  },
  {
   "cell_type": "code",
   "execution_count": 11,
   "id": "701c6b33-b1d6-48ad-a662-2a74bb2c20e5",
   "metadata": {},
   "outputs": [
    {
     "name": "stdout",
     "output_type": "stream",
     "text": [
      "Class Index    0\n",
      "Title          0\n",
      "Description    0\n",
      "dtype: int64\n"
     ]
    }
   ],
   "source": [
    "print(missing)"
   ]
  },
  {
   "cell_type": "code",
   "execution_count": 12,
   "id": "e1d9626a-0c40-4656-9233-3578ae231800",
   "metadata": {},
   "outputs": [],
   "source": [
    "#Dropping rows with missing values\n",
    "merged_df = merged_df.dropna()"
   ]
  },
  {
   "cell_type": "code",
   "execution_count": 14,
   "id": "1fdf7ae9-3bc7-4c55-a6cd-333057697494",
   "metadata": {},
   "outputs": [],
   "source": [
    "#Remove columns that are not required\n",
    "#All columns are necessary, so I am skipping this step"
   ]
  },
  {
   "cell_type": "code",
   "execution_count": 15,
   "id": "7b3c69d8-f313-42c6-92cd-27fcbd07a4db",
   "metadata": {},
   "outputs": [
    {
     "name": "stdout",
     "output_type": "stream",
     "text": [
      "(127600, 3)\n"
     ]
    }
   ],
   "source": [
    "#Shape of the combined dataframe\n",
    "print(merged_df.shape)"
   ]
  },
  {
   "cell_type": "code",
   "execution_count": 16,
   "id": "2628da6f-81b2-4f1e-b529-86cbe357f7b8",
   "metadata": {},
   "outputs": [],
   "source": [
    "#Removing first 10 rows\n",
    "merged_df = merged_df.iloc[10:]"
   ]
  },
  {
   "cell_type": "code",
   "execution_count": 18,
   "id": "eb6b680a-db4e-427d-92af-9ce424f1645e",
   "metadata": {},
   "outputs": [
    {
     "name": "stdout",
     "output_type": "stream",
     "text": [
      "(127590, 3)\n"
     ]
    }
   ],
   "source": [
    "#Shape of the modified df\n",
    "print(merged_df.shape)"
   ]
  },
  {
   "cell_type": "code",
   "execution_count": 19,
   "id": "9c63ff20-81bb-46db-8a10-aada5439cadb",
   "metadata": {},
   "outputs": [
    {
     "name": "stdout",
     "output_type": "stream",
     "text": [
      "        Class Index                                              Title  \\\n",
      "0                 2                     Beckham doubt for Poland clash   \n",
      "1                 3                Most Hospitals Posting Data on Care   \n",
      "2                 2       Phelps, U.S. Win Men's 4x200 Freestyle Relay   \n",
      "3                 3                    SF investment adviser penalized   \n",
      "4                 3                  Lenovo confirms acquisition talks   \n",
      "...             ...                                                ...   \n",
      "127585            2          Couch, Gildon, Levens Among NFL Cuts (AP)   \n",
      "127586            1  Sharon, now a dear old softy, can only detract...   \n",
      "127587            3        America West won #39;t bid for ATA Airlines   \n",
      "127588            1      Bean Poses Re-Election Dilemma for Crane (AP)   \n",
      "127589            4                            Yahoo Buying Musicmatch   \n",
      "\n",
      "                                              Description  \n",
      "0       David Beckham has only 48 hours to recover fro...  \n",
      "1       More than 98 percent of hospitals in the Unite...  \n",
      "2        ATHENS (Reuters) - Michael Phelps led the Uni...  \n",
      "3       A San Francisco investment adviser for mutual ...  \n",
      "4       CHINA #39;S largest manufacturer of personal c...  \n",
      "...                                                   ...  \n",
      "127585  AP - Tim Couch's stay in Green Bay was short a...  \n",
      "127586  Israeli Prime Minister Ariel Sharon is not kno...  \n",
      "127587  America West Airlines, which has been consider...  \n",
      "127588  AP - Melissa Bean hands out seat cushions that...  \n",
      "127589  Yahoo Inc. (YHOO) is buying online jukebox pro...  \n",
      "\n",
      "[127590 rows x 3 columns]\n"
     ]
    }
   ],
   "source": [
    "#Random shuffling of df\n",
    "merged_df = merged_df.sample(frac=1).reset_index(drop=True)\n",
    "print(merged_df)"
   ]
  },
  {
   "cell_type": "code",
   "execution_count": 20,
   "id": "93e0c437-e686-4471-a5d9-b116a28f5bd6",
   "metadata": {},
   "outputs": [],
   "source": [
    "#Splitting the merged df into training and testing sets (using a 80:20 ratio)\n",
    "train_len = int(0.8* len(merged_df))\n",
    "new_train_df = merged_df[:train_len]\n",
    "new_test_df = merged_df[train_len:]"
   ]
  },
  {
   "cell_type": "code",
   "execution_count": 21,
   "id": "39a8af58-c4d3-41d5-af75-c5c55454e766",
   "metadata": {},
   "outputs": [
    {
     "name": "stdout",
     "output_type": "stream",
     "text": [
      "New shape of training dataframe is (102072, 3)\n",
      "New shape of testing dataframe is (25518, 3)\n"
     ]
    }
   ],
   "source": [
    "#Printing the new shapes\n",
    "print(f\"New shape of training dataframe is {new_train_df.shape}\")\n",
    "print(f\"New shape of testing dataframe is {new_test_df.shape}\")"
   ]
  }
 ],
 "metadata": {
  "kernelspec": {
   "display_name": "Python 3 (ipykernel)",
   "language": "python",
   "name": "python3"
  },
  "language_info": {
   "codemirror_mode": {
    "name": "ipython",
    "version": 3
   },
   "file_extension": ".py",
   "mimetype": "text/x-python",
   "name": "python",
   "nbconvert_exporter": "python",
   "pygments_lexer": "ipython3",
   "version": "3.12.1"
  }
 },
 "nbformat": 4,
 "nbformat_minor": 5
}
